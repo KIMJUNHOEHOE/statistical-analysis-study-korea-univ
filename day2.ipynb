{
 "cells": [
  {
   "cell_type": "code",
   "execution_count": 27,
   "metadata": {},
   "outputs": [],
   "source": [
    "# library\n",
    "import pandas as pd\n",
    "import numpy as np\n",
    "import scipy as sp\n",
    "import scipy.stats\n",
    "import matplotlib.pyplot as plt"
   ]
  },
  {
   "cell_type": "code",
   "execution_count": 4,
   "metadata": {},
   "outputs": [],
   "source": [
    "x = np.array([-0.31,-0.67,-0.61,-2.07,-1.31])\n",
    "m = x.mean()\n",
    "s = np.sqrt(x.var(ddof=1)) #decrease of degree of freedom, # s : sample standard deviation\n",
    "n = len(x)\n",
    "se = s/np.sqrt(n) # Estimated Standard error of sample mean"
   ]
  },
  {
   "cell_type": "code",
   "execution_count": 5,
   "metadata": {},
   "outputs": [],
   "source": [
    "SN = sp.stats.norm() # 정규분포 class, default는 표준정규분포"
   ]
  },
  {
   "cell_type": "code",
   "execution_count": 8,
   "metadata": {},
   "outputs": [
    {
     "data": {
      "text/plain": [
       "0.24197072451914337"
      ]
     },
     "execution_count": 8,
     "metadata": {},
     "output_type": "execute_result"
    }
   ],
   "source": [
    "SN.pdf(1) # 표준 정규분포의 확률밀도함수"
   ]
  },
  {
   "cell_type": "code",
   "execution_count": 9,
   "metadata": {},
   "outputs": [
    {
     "data": {
      "text/plain": [
       "0.8413447460685429"
      ]
     },
     "execution_count": 9,
     "metadata": {},
     "output_type": "execute_result"
    }
   ],
   "source": [
    "SN.cdf(1)"
   ]
  },
  {
   "cell_type": "code",
   "execution_count": 10,
   "metadata": {},
   "outputs": [
    {
     "data": {
      "text/plain": [
       "0.0"
      ]
     },
     "execution_count": 10,
     "metadata": {},
     "output_type": "execute_result"
    }
   ],
   "source": [
    "SN.ppf(0.5) # cdf의 역함수"
   ]
  },
  {
   "cell_type": "code",
   "execution_count": 11,
   "metadata": {},
   "outputs": [
    {
     "data": {
      "text/plain": [
       "0.9998150936147446"
      ]
     },
     "execution_count": 11,
     "metadata": {},
     "output_type": "execute_result"
    }
   ],
   "source": [
    "SN.ppf(0.8413)"
   ]
  },
  {
   "cell_type": "code",
   "execution_count": 12,
   "metadata": {},
   "outputs": [],
   "source": [
    "p = np.array([0.99,0.95,0.90]) # CI를 구할 것임"
   ]
  },
  {
   "cell_type": "code",
   "execution_count": 13,
   "metadata": {},
   "outputs": [],
   "source": [
    "k = SN.ppf(1-(1-p)/2) # ppf : cdf의 역함수"
   ]
  },
  {
   "cell_type": "code",
   "execution_count": 15,
   "metadata": {},
   "outputs": [],
   "source": [
    "ci_norm = np.concatenate((p,m-k*se,m+k*se)).reshape((3,3)).T # transpose"
   ]
  },
  {
   "cell_type": "code",
   "execution_count": 19,
   "metadata": {},
   "outputs": [
    {
     "data": {
      "text/plain": [
       "-3.1608000334792035"
      ]
     },
     "execution_count": 19,
     "metadata": {},
     "output_type": "execute_result"
    }
   ],
   "source": [
    "z = (m-0)/se # 귀무가설을 M = 0 이라고 가정할 때\n",
    "z"
   ]
  },
  {
   "cell_type": "code",
   "execution_count": 21,
   "metadata": {},
   "outputs": [
    {
     "data": {
      "text/plain": [
       "0.0015733647181586097"
      ]
     },
     "execution_count": 21,
     "metadata": {},
     "output_type": "execute_result"
    }
   ],
   "source": [
    "pv_norm = 2*(1-SN.cdf(abs(z)))\n",
    "pv_norm"
   ]
  },
  {
   "cell_type": "code",
   "execution_count": 23,
   "metadata": {},
   "outputs": [
    {
     "data": {
      "text/plain": [
       "Ttest_1sampResult(statistic=-3.160800033479203, pvalue=0.03415782015509721)"
      ]
     },
     "execution_count": 23,
     "metadata": {},
     "output_type": "execute_result"
    }
   ],
   "source": [
    "# Assuming H0 ~ T ; T분포는 모집단의 분산을 우리가 알 수 없을 때, T 테스트는 표본평균을 가지고 모평균을 검정할때 사용\n",
    "ST = sp.stats.t(n-1)\n",
    "p = np.array([0.99,0.95,0.90])\n",
    "k = ST.ppf(1-(1-p)/2)\n",
    "ci_t = np.concatenate((p,m-k*se,m+k*se)).reshape((3,3)).T\n",
    "t = (m-0)/se\n",
    "pv_t = 2*(1-ST.cdf(abs(t)))\n",
    "\n",
    "# using python function\n",
    "sp.stats.ttest_1samp(x,popmean=0) #귀무가설 모평균이 0이다 # 위의 과정을 ttest 함수로 통계량과 pvalue가 나옴"
   ]
  },
  {
   "cell_type": "code",
   "execution_count": 24,
   "metadata": {},
   "outputs": [],
   "source": [
    "###########################################################\n",
    "# one-sample t-test\n",
    "###########################################################\n",
    "d = np.array([-0.31,-0.67,-0.61,-2.07,-1.31])\n",
    "r = sp.stats.ttest_1samp(d,0)"
   ]
  },
  {
   "cell_type": "code",
   "execution_count": 26,
   "metadata": {},
   "outputs": [
    {
     "data": {
      "text/plain": [
       "Ttest_1sampResult(statistic=-3.160800033479203, pvalue=0.03415782015509721)"
      ]
     },
     "execution_count": 26,
     "metadata": {},
     "output_type": "execute_result"
    }
   ],
   "source": [
    "r"
   ]
  },
  {
   "cell_type": "code",
   "execution_count": 66,
   "metadata": {
    "scrolled": true
   },
   "outputs": [],
   "source": [
    "# data01_iris.csv 에서 setosa 품종의 평균 Sepal Length가 4가 아니라는 \n",
    "# 가설에 대한 p-value를 구하시오.\n",
    "iris = pd.read_csv('Practices1/data01_iris.csv')"
   ]
  },
  {
   "cell_type": "code",
   "execution_count": 33,
   "metadata": {
    "scrolled": true
   },
   "outputs": [
    {
     "data": {
      "text/plain": [
       "0     5.1\n",
       "1     4.9\n",
       "2     4.7\n",
       "3     4.6\n",
       "4     5.0\n",
       "5     5.4\n",
       "6     4.6\n",
       "7     5.0\n",
       "8     4.4\n",
       "9     4.9\n",
       "10    5.4\n",
       "11    4.8\n",
       "12    4.8\n",
       "13    4.3\n",
       "14    5.8\n",
       "15    5.7\n",
       "16    5.4\n",
       "17    5.1\n",
       "18    5.7\n",
       "19    5.1\n",
       "20    5.4\n",
       "21    5.1\n",
       "22    4.6\n",
       "23    5.1\n",
       "24    4.8\n",
       "25    5.0\n",
       "26    5.0\n",
       "27    5.2\n",
       "28    5.2\n",
       "29    4.7\n",
       "30    4.8\n",
       "31    5.4\n",
       "32    5.2\n",
       "33    5.5\n",
       "34    4.9\n",
       "35    5.0\n",
       "36    5.5\n",
       "37    4.9\n",
       "38    4.4\n",
       "39    5.1\n",
       "40    5.0\n",
       "41    4.5\n",
       "42    4.4\n",
       "43    5.0\n",
       "44    5.1\n",
       "45    4.8\n",
       "46    5.1\n",
       "47    4.6\n",
       "48    5.3\n",
       "49    5.0\n",
       "Name: Sepal.Length, dtype: float64"
      ]
     },
     "execution_count": 33,
     "metadata": {},
     "output_type": "execute_result"
    }
   ],
   "source": [
    "x=data[data['Species']=='setosa']['Sepal.Length']\n",
    "x"
   ]
  },
  {
   "cell_type": "code",
   "execution_count": 34,
   "metadata": {},
   "outputs": [
    {
     "data": {
      "text/plain": [
       "array([5.1, 4.9, 4.7, 4.6, 5. , 5.4, 4.6, 5. , 4.4, 4.9, 5.4, 4.8, 4.8,\n",
       "       4.3, 5.8, 5.7, 5.4, 5.1, 5.7, 5.1, 5.4, 5.1, 4.6, 5.1, 4.8, 5. ,\n",
       "       5. , 5.2, 5.2, 4.7, 4.8, 5.4, 5.2, 5.5, 4.9, 5. , 5.5, 4.9, 4.4,\n",
       "       5.1, 5. , 4.5, 4.4, 5. , 5.1, 4.8, 5.1, 4.6, 5.3, 5. ])"
      ]
     },
     "execution_count": 34,
     "metadata": {},
     "output_type": "execute_result"
    }
   ],
   "source": [
    "x1 = np.array(x)\n",
    "x1"
   ]
  },
  {
   "cell_type": "code",
   "execution_count": 61,
   "metadata": {},
   "outputs": [
    {
     "data": {
      "text/plain": [
       "Ttest_1sampResult(statistic=-1.8856732506697453, pvalue=0.06527445885090742)"
      ]
     },
     "execution_count": 61,
     "metadata": {},
     "output_type": "execute_result"
    }
   ],
   "source": [
    "x1_ttest = sp.stats.ttest_1samp(x1,popmean=5.1) # 모평균이 5.1에 대한 t 검정\n",
    "x1_ttest"
   ]
  },
  {
   "cell_type": "code",
   "execution_count": 62,
   "metadata": {},
   "outputs": [
    {
     "data": {
      "text/plain": [
       "0.059338999668881565"
      ]
     },
     "execution_count": 62,
     "metadata": {},
     "output_type": "execute_result"
    }
   ],
   "source": [
    "m = x1.mean()\n",
    "s = np.sqrt(x1.var(ddof=1)) #decrease of degree of freedom, # s : sample standard deviation\n",
    "n = len(x1)\n",
    "se = s/np.sqrt(n)\n",
    "\n",
    "SN = sp.stats.norm()\n",
    "z = (m-5.1)/se # 모평균이 5.1에 대한 z 검정\n",
    "pv_norm = 2*(1-SN.cdf(abs(z)))\n",
    "pv_norm"
   ]
  },
  {
   "cell_type": "code",
   "execution_count": 64,
   "metadata": {},
   "outputs": [],
   "source": [
    "# 정규분포와 t분포는 표본수(n)이 커지면 비슷해짐 => 중심극한정리에 의해 표본수가 많으면 표본평균은 정규분포를 따르기 때문에 z test 사용"
   ]
  },
  {
   "cell_type": "code",
   "execution_count": 67,
   "metadata": {},
   "outputs": [
    {
     "data": {
      "text/plain": [
       "Ttest_indResult(statistic=10.52098626754911, pvalue=8.985235037487077e-18)"
      ]
     },
     "execution_count": 67,
     "metadata": {},
     "output_type": "execute_result"
    }
   ],
   "source": [
    "###########################################################\n",
    "# two-sample t-test\n",
    "###########################################################\n",
    "\n",
    "np.random.seed(1)\n",
    "x1 = np.random.normal(0.5,1,100)\n",
    "x2 = np.random.normal(0.5,2,100)\n",
    "r = sp.stats.ttest_ind(x1,x2)\n",
    "r.pvalue\n",
    "# what is the number of samples for pvalue < 0.01\n",
    "\n",
    "iris1 = iris[ iris['Species']=='versicolor' ]\n",
    "iris2 = iris[ iris['Species']=='setosa' ]\n",
    "sp.stats.ttest_ind(iris1['Sepal.Length'],iris2['Sepal.Length']) # default는 두 집단의 분산이 같다는 가정으로 t-test"
   ]
  },
  {
   "cell_type": "code",
   "execution_count": 68,
   "metadata": {},
   "outputs": [
    {
     "data": {
      "text/plain": [
       "Ttest_indResult(statistic=10.52098626754911, pvalue=3.746742613983842e-17)"
      ]
     },
     "execution_count": 68,
     "metadata": {},
     "output_type": "execute_result"
    }
   ],
   "source": [
    "sp.stats.ttest_ind(iris1['Sepal.Length'],iris2['Sepal.Length'],equal_var=False) # 두 집단의 분산이 다르다는 가정으로 t-test"
   ]
  },
  {
   "cell_type": "code",
   "execution_count": 69,
   "metadata": {},
   "outputs": [
    {
     "data": {
      "text/html": [
       "<div>\n",
       "<style scoped>\n",
       "    .dataframe tbody tr th:only-of-type {\n",
       "        vertical-align: middle;\n",
       "    }\n",
       "\n",
       "    .dataframe tbody tr th {\n",
       "        vertical-align: top;\n",
       "    }\n",
       "\n",
       "    .dataframe thead th {\n",
       "        text-align: right;\n",
       "    }\n",
       "</style>\n",
       "<table border=\"1\" class=\"dataframe\">\n",
       "  <thead>\n",
       "    <tr style=\"text-align: right;\">\n",
       "      <th></th>\n",
       "      <th>Sepal.Length</th>\n",
       "      <th>Sepal.Width</th>\n",
       "      <th>Petal.Length</th>\n",
       "      <th>Petal.Width</th>\n",
       "      <th>Species</th>\n",
       "    </tr>\n",
       "  </thead>\n",
       "  <tbody>\n",
       "    <tr>\n",
       "      <th>0</th>\n",
       "      <td>5.1</td>\n",
       "      <td>3.5</td>\n",
       "      <td>1.4</td>\n",
       "      <td>0.2</td>\n",
       "      <td>setosa</td>\n",
       "    </tr>\n",
       "    <tr>\n",
       "      <th>1</th>\n",
       "      <td>4.9</td>\n",
       "      <td>3.0</td>\n",
       "      <td>1.4</td>\n",
       "      <td>0.2</td>\n",
       "      <td>setosa</td>\n",
       "    </tr>\n",
       "    <tr>\n",
       "      <th>2</th>\n",
       "      <td>4.7</td>\n",
       "      <td>3.2</td>\n",
       "      <td>1.3</td>\n",
       "      <td>0.2</td>\n",
       "      <td>setosa</td>\n",
       "    </tr>\n",
       "    <tr>\n",
       "      <th>3</th>\n",
       "      <td>4.6</td>\n",
       "      <td>3.1</td>\n",
       "      <td>1.5</td>\n",
       "      <td>0.2</td>\n",
       "      <td>setosa</td>\n",
       "    </tr>\n",
       "    <tr>\n",
       "      <th>4</th>\n",
       "      <td>5.0</td>\n",
       "      <td>3.6</td>\n",
       "      <td>1.4</td>\n",
       "      <td>0.2</td>\n",
       "      <td>setosa</td>\n",
       "    </tr>\n",
       "  </tbody>\n",
       "</table>\n",
       "</div>"
      ],
      "text/plain": [
       "   Sepal.Length  Sepal.Width  Petal.Length  Petal.Width Species\n",
       "0           5.1          3.5           1.4          0.2  setosa\n",
       "1           4.9          3.0           1.4          0.2  setosa\n",
       "2           4.7          3.2           1.3          0.2  setosa\n",
       "3           4.6          3.1           1.5          0.2  setosa\n",
       "4           5.0          3.6           1.4          0.2  setosa"
      ]
     },
     "execution_count": 69,
     "metadata": {},
     "output_type": "execute_result"
    }
   ],
   "source": [
    "# what is the p-value between Petal Length of versicolor and virginica \n",
    "# for samples of which Petal Length > 4\n",
    "iris.head()"
   ]
  },
  {
   "cell_type": "code",
   "execution_count": 80,
   "metadata": {},
   "outputs": [
    {
     "data": {
      "text/plain": [
       "Ttest_indResult(statistic=-11.470014122876544, pvalue=3.719623773733949e-18)"
      ]
     },
     "execution_count": 80,
     "metadata": {},
     "output_type": "execute_result"
    }
   ],
   "source": [
    "versi = np.array(iris[(iris['Species']=='versicolor') & (iris['Petal.Length'] > 4)]['Petal.Length'])\n",
    "virgi = np.array(iris[(iris['Species']=='virginica') & (iris['Petal.Length'] > 4)]['Petal.Length'])\n",
    "sp.stats.ttest_ind(versi, virgi, equal_var=False) # 두 표본의 샘플 개수가 달라도 가능"
   ]
  },
  {
   "cell_type": "code",
   "execution_count": 83,
   "metadata": {},
   "outputs": [
    {
     "data": {
      "text/plain": [
       "(34,)"
      ]
     },
     "execution_count": 83,
     "metadata": {},
     "output_type": "execute_result"
    }
   ],
   "source": [
    "versi.shape"
   ]
  },
  {
   "cell_type": "code",
   "execution_count": 84,
   "metadata": {},
   "outputs": [
    {
     "data": {
      "text/plain": [
       "(50,)"
      ]
     },
     "execution_count": 84,
     "metadata": {},
     "output_type": "execute_result"
    }
   ],
   "source": [
    "virgi.shape"
   ]
  },
  {
   "cell_type": "code",
   "execution_count": 87,
   "metadata": {},
   "outputs": [
    {
     "data": {
      "text/plain": [
       "(-0.42844010433053975, 4.5133142672730603e-08)"
      ]
     },
     "execution_count": 87,
     "metadata": {},
     "output_type": "execute_result"
    }
   ],
   "source": [
    "###########################################################\n",
    "# correlation test\n",
    "###########################################################\n",
    "\n",
    "np.random.seed(2)\n",
    "z = np.random.normal(0,1,100)\n",
    "x = 0*z + np.random.normal(0,1,100)\n",
    "y = 0*z + np.random.normal(0,1,100)\n",
    "r = sp.stats.pearsonr(x,y) # 상관관계를 검정하는 많은 것 중 pearsonr이 유명\n",
    "r[0] # correlation coefficient\n",
    "r[1] # p-value of correlation test\n",
    "# what is the number of samples that makes p-value < 0.001\n",
    "\n",
    "sp.stats.pearsonr(iris['Sepal.Width'],iris['Petal.Length'])"
   ]
  },
  {
   "cell_type": "code",
   "execution_count": 91,
   "metadata": {},
   "outputs": [
    {
     "data": {
      "text/plain": [
       "(0.27809835293596963, 0.05052644176398267)"
      ]
     },
     "execution_count": 91,
     "metadata": {},
     "output_type": "execute_result"
    }
   ],
   "source": [
    "# what is the correlation and p-value between Sepal Length and Petal Width of setosa?\n",
    "sl = np.array(iris[(iris['Species']=='setosa')]['Sepal.Length'])\n",
    "pw = np.array(iris[(iris['Species']=='setosa')]['Petal.Width'])\n",
    "r=sp.stats.pearsonr(sl,pw)\n",
    "r"
   ]
  },
  {
   "cell_type": "code",
   "execution_count": 92,
   "metadata": {},
   "outputs": [
    {
     "data": {
      "text/plain": [
       "<matplotlib.collections.PathCollection at 0x272848929b0>"
      ]
     },
     "execution_count": 92,
     "metadata": {},
     "output_type": "execute_result"
    },
    {
     "data": {
      "image/png": "[encoded data removed]",
      "text/plain": [
       "<Figure size 432x288 with 1 Axes>"
      ]
     },
     "metadata": {
      "needs_background": "light"
     },
     "output_type": "display_data"
    }
   ],
   "source": [
    "plt.scatter(sl,pw)"
   ]
  },
  {
   "cell_type": "code",
   "execution_count": 98,
   "metadata": {},
   "outputs": [
    {
     "data": {
      "text/plain": [
       "Power_divergenceResult(statistic=85.79999999999998, pvalue=3.301374617223752e-15)"
      ]
     },
     "execution_count": 98,
     "metadata": {},
     "output_type": "execute_result"
    }
   ],
   "source": [
    "###########################################################\n",
    "# chisq test\n",
    "###########################################################\n",
    "\n",
    "np.random.seed(3)\n",
    "w = 1\n",
    "z = np.random.normal(0,1,100)\n",
    "x = w*z + np.random.normal(0,1,100)\n",
    "y = w*z + np.random.normal(0,1,100)\n",
    "x2 = pd.cut(x,3,labels=['N','M','W']) # 3등분으로 나눔\n",
    "y2 = pd.cut(y,3,labels=['N','M','W']) # 3등분으로 나눔\n",
    "tbl = pd.crosstab(x2,y2) # 카테고리 데이터를 카운팅 해주는 함수\n",
    "r = sp.stats.chisquare(tbl,axis=None) # axis 값을 None으로 설정해주어야 함\n",
    "r.pvalue\n",
    "# what is the weight for p-value < 0.001?\n",
    "\n",
    "x = pd.cut(iris['Sepal.Width'],3)\n",
    "y = iris['Species']\n",
    "tbl2 = pd.crosstab(x,y)\n",
    "sp.stats.chisquare(tbl2,axis=None)"
   ]
  },
  {
   "cell_type": "code",
   "execution_count": 100,
   "metadata": {},
   "outputs": [
    {
     "data": {
      "text/html": [
       "<div>\n",
       "<style scoped>\n",
       "    .dataframe tbody tr th:only-of-type {\n",
       "        vertical-align: middle;\n",
       "    }\n",
       "\n",
       "    .dataframe tbody tr th {\n",
       "        vertical-align: top;\n",
       "    }\n",
       "\n",
       "    .dataframe thead th {\n",
       "        text-align: right;\n",
       "    }\n",
       "</style>\n",
       "<table border=\"1\" class=\"dataframe\">\n",
       "  <thead>\n",
       "    <tr style=\"text-align: right;\">\n",
       "      <th>Species</th>\n",
       "      <th>setosa</th>\n",
       "      <th>versicolor</th>\n",
       "      <th>virginica</th>\n",
       "    </tr>\n",
       "    <tr>\n",
       "      <th>Sepal.Width</th>\n",
       "      <th></th>\n",
       "      <th></th>\n",
       "      <th></th>\n",
       "    </tr>\n",
       "  </thead>\n",
       "  <tbody>\n",
       "    <tr>\n",
       "      <th>(1.998, 2.8]</th>\n",
       "      <td>1</td>\n",
       "      <td>27</td>\n",
       "      <td>19</td>\n",
       "    </tr>\n",
       "    <tr>\n",
       "      <th>(2.8, 3.6]</th>\n",
       "      <td>36</td>\n",
       "      <td>23</td>\n",
       "      <td>29</td>\n",
       "    </tr>\n",
       "    <tr>\n",
       "      <th>(3.6, 4.4]</th>\n",
       "      <td>13</td>\n",
       "      <td>0</td>\n",
       "      <td>2</td>\n",
       "    </tr>\n",
       "  </tbody>\n",
       "</table>\n",
       "</div>"
      ],
      "text/plain": [
       "Species       setosa  versicolor  virginica\n",
       "Sepal.Width                                \n",
       "(1.998, 2.8]       1          27         19\n",
       "(2.8, 3.6]        36          23         29\n",
       "(3.6, 4.4]        13           0          2"
      ]
     },
     "execution_count": 100,
     "metadata": {},
     "output_type": "execute_result"
    }
   ],
   "source": [
    "tbl2"
   ]
  },
  {
   "cell_type": "code",
   "execution_count": 103,
   "metadata": {},
   "outputs": [
    {
     "data": {
      "text/plain": [
       "(-0.42844010433053975, 4.5133142672730603e-08)"
      ]
     },
     "execution_count": 103,
     "metadata": {},
     "output_type": "execute_result"
    }
   ],
   "source": [
    "# Sepal.Width와 Petal.Length 사의 correlation test의 pvalue\n",
    "sp.stats.pearsonr(iris['Sepal.Width'],iris['Petal.Length'])"
   ]
  },
  {
   "cell_type": "code",
   "execution_count": 104,
   "metadata": {},
   "outputs": [],
   "source": [
    "# Sepal.Width와 Petal.Length를 pd.cut을 이용하여 level 4개짜리 \n",
    "# 범주형 데이터로 변형한 후 chi-square test를 하셔서 \n",
    "# pvalue를 구하시오."
   ]
  },
  {
   "cell_type": "code",
   "execution_count": 105,
   "metadata": {},
   "outputs": [
    {
     "data": {
      "text/plain": [
       "F_onewayResult(statistic=119.26450218450468, pvalue=1.6696691907693826e-31)"
      ]
     },
     "execution_count": 105,
     "metadata": {},
     "output_type": "execute_result"
    }
   ],
   "source": [
    "###########################################################\n",
    "# one-way anova (f-test)\n",
    "###########################################################\n",
    "\n",
    "iris1 = iris[iris['Species']=='setosa']\n",
    "iris2 = iris[iris['Species']=='versicolor']\n",
    "iris3 = iris[iris['Species']=='virginica']\n",
    "\n",
    "sp.stats.f_oneway(iris1['Sepal.Length'],iris2['Sepal.Length'],iris3['Sepal.Length'])"
   ]
  },
  {
   "cell_type": "code",
   "execution_count": 106,
   "metadata": {},
   "outputs": [
    {
     "data": {
      "text/plain": [
       "Ttest_indResult(statistic=-10.52098626754911, pvalue=8.985235037487077e-18)"
      ]
     },
     "execution_count": 106,
     "metadata": {},
     "output_type": "execute_result"
    }
   ],
   "source": [
    "sp.stats.f_oneway(iris1['Sepal.Length'],iris2['Sepal.Length'])\n",
    "sp.stats.ttest_ind(iris1['Sepal.Length'],iris2['Sepal.Length'])"
   ]
  },
  {
   "cell_type": "code",
   "execution_count": 109,
   "metadata": {},
   "outputs": [
    {
     "name": "stdout",
     "output_type": "stream",
     "text": [
      "<class 'pandas.core.frame.DataFrame'>\n",
      "RangeIndex: 100 entries, 0 to 99\n",
      "Data columns (total 12 columns):\n",
      "Sales          100 non-null float64\n",
      "SalesBin       100 non-null object\n",
      "CompPrice      100 non-null int64\n",
      "Income         100 non-null int64\n",
      "Advertising    100 non-null int64\n",
      "Population     100 non-null int64\n",
      "Price          100 non-null int64\n",
      "ShelveLoc      100 non-null object\n",
      "Age            100 non-null int64\n",
      "Education      100 non-null int64\n",
      "Urban          100 non-null object\n",
      "US             100 non-null object\n",
      "dtypes: float64(1), int64(7), object(4)\n",
      "memory usage: 9.5+ KB\n"
     ]
    }
   ],
   "source": [
    "###########################################################\n",
    "# Practice , 유의수준 5%\n",
    "###########################################################"
   ]
  },
  {
   "cell_type": "code",
   "execution_count": 137,
   "metadata": {},
   "outputs": [
    {
     "data": {
      "text/html": [
       "<div>\n",
       "<style scoped>\n",
       "    .dataframe tbody tr th:only-of-type {\n",
       "        vertical-align: middle;\n",
       "    }\n",
       "\n",
       "    .dataframe tbody tr th {\n",
       "        vertical-align: top;\n",
       "    }\n",
       "\n",
       "    .dataframe thead th {\n",
       "        text-align: right;\n",
       "    }\n",
       "</style>\n",
       "<table border=\"1\" class=\"dataframe\">\n",
       "  <thead>\n",
       "    <tr style=\"text-align: right;\">\n",
       "      <th></th>\n",
       "      <th>Name</th>\n",
       "      <th>Pvalue</th>\n",
       "    </tr>\n",
       "  </thead>\n",
       "  <tbody>\n",
       "    <tr>\n",
       "      <th>0</th>\n",
       "      <td>CompPrice</td>\n",
       "      <td>0.219908</td>\n",
       "    </tr>\n",
       "    <tr>\n",
       "      <th>1</th>\n",
       "      <td>Income</td>\n",
       "      <td>0.006826</td>\n",
       "    </tr>\n",
       "    <tr>\n",
       "      <th>2</th>\n",
       "      <td>Advertising</td>\n",
       "      <td>0.000040</td>\n",
       "    </tr>\n",
       "    <tr>\n",
       "      <th>3</th>\n",
       "      <td>Population</td>\n",
       "      <td>0.244377</td>\n",
       "    </tr>\n",
       "    <tr>\n",
       "      <th>4</th>\n",
       "      <td>Price</td>\n",
       "      <td>0.000757</td>\n",
       "    </tr>\n",
       "    <tr>\n",
       "      <th>5</th>\n",
       "      <td>ShelveLoc</td>\n",
       "      <td>0.000005</td>\n",
       "    </tr>\n",
       "    <tr>\n",
       "      <th>6</th>\n",
       "      <td>Age</td>\n",
       "      <td>0.023840</td>\n",
       "    </tr>\n",
       "    <tr>\n",
       "      <th>7</th>\n",
       "      <td>Education</td>\n",
       "      <td>0.839751</td>\n",
       "    </tr>\n",
       "    <tr>\n",
       "      <th>8</th>\n",
       "      <td>Urban</td>\n",
       "      <td>0.001851</td>\n",
       "    </tr>\n",
       "    <tr>\n",
       "      <th>9</th>\n",
       "      <td>US</td>\n",
       "      <td>0.018566</td>\n",
       "    </tr>\n",
       "  </tbody>\n",
       "</table>\n",
       "</div>"
      ],
      "text/plain": [
       "          Name    Pvalue\n",
       "0    CompPrice  0.219908\n",
       "1       Income  0.006826\n",
       "2  Advertising  0.000040\n",
       "3   Population  0.244377\n",
       "4        Price  0.000757\n",
       "5    ShelveLoc  0.000005\n",
       "6          Age  0.023840\n",
       "7    Education  0.839751\n",
       "8        Urban  0.001851\n",
       "9           US  0.018566"
      ]
     },
     "execution_count": 137,
     "metadata": {},
     "output_type": "execute_result"
    }
   ],
   "source": [
    "# practice 2\n",
    "df = pd.read_csv('Practices1/data04_carseat.csv')\n",
    "\n",
    "# case 2\n",
    "plist = []\n",
    "y = df['SalesBin']\n",
    "for i in range(2,df.shape[1]):\n",
    "    v = df.iloc[:,i]\n",
    "    if type(v[0]) == type('string'): # categorical\n",
    "        tbl = pd.crosstab(y,v)\n",
    "        r = sp.stats.chisquare(tbl,axis=None)\n",
    "    else:\n",
    "        v1 = v[ y=='1High' ]\n",
    "        v2 = v[ y=='0Low' ]\n",
    "        r = sp.stats.ttest_ind(v1,v2)\n",
    "    plist.append(r.pvalue)\n",
    "\n",
    "RES = pd.DataFrame({\"Name\":df.columns[2:df.shape[1]], \"Pvalue\":plist})\n",
    "RES"
   ]
  },
  {
   "cell_type": "code",
   "execution_count": 138,
   "metadata": {},
   "outputs": [
    {
     "data": {
      "text/html": [
       "<div>\n",
       "<style scoped>\n",
       "    .dataframe tbody tr th:only-of-type {\n",
       "        vertical-align: middle;\n",
       "    }\n",
       "\n",
       "    .dataframe tbody tr th {\n",
       "        vertical-align: top;\n",
       "    }\n",
       "\n",
       "    .dataframe thead th {\n",
       "        text-align: right;\n",
       "    }\n",
       "</style>\n",
       "<table border=\"1\" class=\"dataframe\">\n",
       "  <thead>\n",
       "    <tr style=\"text-align: right;\">\n",
       "      <th></th>\n",
       "      <th>Sales</th>\n",
       "      <th>SalesBin</th>\n",
       "      <th>CompPrice</th>\n",
       "      <th>Income</th>\n",
       "      <th>Advertising</th>\n",
       "      <th>Population</th>\n",
       "      <th>Price</th>\n",
       "      <th>ShelveLoc</th>\n",
       "      <th>Age</th>\n",
       "      <th>Education</th>\n",
       "      <th>Urban</th>\n",
       "      <th>US</th>\n",
       "    </tr>\n",
       "  </thead>\n",
       "  <tbody>\n",
       "    <tr>\n",
       "      <th>0</th>\n",
       "      <td>9.50</td>\n",
       "      <td>1High</td>\n",
       "      <td>138</td>\n",
       "      <td>73</td>\n",
       "      <td>11</td>\n",
       "      <td>276</td>\n",
       "      <td>120</td>\n",
       "      <td>Bad</td>\n",
       "      <td>42</td>\n",
       "      <td>17</td>\n",
       "      <td>Yes</td>\n",
       "      <td>Yes</td>\n",
       "    </tr>\n",
       "    <tr>\n",
       "      <th>1</th>\n",
       "      <td>11.22</td>\n",
       "      <td>1High</td>\n",
       "      <td>111</td>\n",
       "      <td>48</td>\n",
       "      <td>16</td>\n",
       "      <td>260</td>\n",
       "      <td>83</td>\n",
       "      <td>Good</td>\n",
       "      <td>65</td>\n",
       "      <td>10</td>\n",
       "      <td>Yes</td>\n",
       "      <td>Yes</td>\n",
       "    </tr>\n",
       "    <tr>\n",
       "      <th>2</th>\n",
       "      <td>10.06</td>\n",
       "      <td>1High</td>\n",
       "      <td>113</td>\n",
       "      <td>35</td>\n",
       "      <td>10</td>\n",
       "      <td>269</td>\n",
       "      <td>80</td>\n",
       "      <td>Medium</td>\n",
       "      <td>59</td>\n",
       "      <td>12</td>\n",
       "      <td>Yes</td>\n",
       "      <td>Yes</td>\n",
       "    </tr>\n",
       "    <tr>\n",
       "      <th>3</th>\n",
       "      <td>7.40</td>\n",
       "      <td>0Low</td>\n",
       "      <td>117</td>\n",
       "      <td>100</td>\n",
       "      <td>4</td>\n",
       "      <td>466</td>\n",
       "      <td>97</td>\n",
       "      <td>Medium</td>\n",
       "      <td>55</td>\n",
       "      <td>14</td>\n",
       "      <td>Yes</td>\n",
       "      <td>Yes</td>\n",
       "    </tr>\n",
       "    <tr>\n",
       "      <th>4</th>\n",
       "      <td>4.15</td>\n",
       "      <td>0Low</td>\n",
       "      <td>141</td>\n",
       "      <td>64</td>\n",
       "      <td>3</td>\n",
       "      <td>340</td>\n",
       "      <td>128</td>\n",
       "      <td>Bad</td>\n",
       "      <td>38</td>\n",
       "      <td>13</td>\n",
       "      <td>Yes</td>\n",
       "      <td>No</td>\n",
       "    </tr>\n",
       "  </tbody>\n",
       "</table>\n",
       "</div>"
      ],
      "text/plain": [
       "   Sales SalesBin  CompPrice  Income  Advertising  Population  Price  \\\n",
       "0   9.50    1High        138      73           11         276    120   \n",
       "1  11.22    1High        111      48           16         260     83   \n",
       "2  10.06    1High        113      35           10         269     80   \n",
       "3   7.40     0Low        117     100            4         466     97   \n",
       "4   4.15     0Low        141      64            3         340    128   \n",
       "\n",
       "  ShelveLoc  Age  Education Urban   US  \n",
       "0       Bad   42         17   Yes  Yes  \n",
       "1      Good   65         10   Yes  Yes  \n",
       "2    Medium   59         12   Yes  Yes  \n",
       "3    Medium   55         14   Yes  Yes  \n",
       "4       Bad   38         13   Yes   No  "
      ]
     },
     "execution_count": 138,
     "metadata": {},
     "output_type": "execute_result"
    }
   ],
   "source": [
    "df.head()"
   ]
  },
  {
   "cell_type": "code",
   "execution_count": null,
   "metadata": {},
   "outputs": [],
   "source": []
  }
 ],
 "metadata": {
  "kernelspec": {
   "display_name": "Python 3",
   "language": "python",
   "name": "python3"
  },
  "language_info": {
   "codemirror_mode": {
    "name": "ipython",
    "version": 3
   },
   "file_extension": ".py",
   "mimetype": "text/x-python",
   "name": "python",
   "nbconvert_exporter": "python",
   "pygments_lexer": "ipython3",
   "version": "3.7.3"
  }
 },
 "nbformat": 4,
 "nbformat_minor": 2
}
